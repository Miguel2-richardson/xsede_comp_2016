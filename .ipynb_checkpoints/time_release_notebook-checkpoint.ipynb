{
 "cells": [
  {
   "cell_type": "code",
   "execution_count": 1,
   "id": "cfc32301",
   "metadata": {},
   "outputs": [],
   "source": [
    "import math\n",
    "import matplotlib.pyplot as plt\n",
    "import numpy as np"
   ]
  },
  {
   "cell_type": "code",
   "execution_count": 2,
   "id": "f860b608",
   "metadata": {},
   "outputs": [],
   "source": [
    "time_start = 0.0\n",
    "time_step = 0.25\n",
    "time_end = 48\n",
    "pills = 24 # number of pills taken in 24 hours, this is for time release\n",
    "a= time_start # iterative variable for if statements\n",
    "t =np.arange(time_start, time_end, time_step)\n",
    "N = int((time_end - time_start)/time_step)\n",
    "next_dose = 24/pills"
   ]
  },
  {
   "cell_type": "code",
   "execution_count": 3,
   "id": "312b056c",
   "metadata": {},
   "outputs": [],
   "source": [
    "n=0.18 #percentage of 2day dose from 1st pill. @ 10% of the total value it takes about 12 hours to get in range\n",
    "#THe range for the time release is 10% for 1st dose to 25%. 19 - 22% gives the best range\n",
    "#This is true for 12950 mg"
   ]
  },
  {
   "cell_type": "code",
   "execution_count": 4,
   "id": "591d730a",
   "metadata": {},
   "outputs": [],
   "source": [
    "if (pills > 1): #To determine percent left of dose after 1st pill is taken\n",
    "   k = (1-n)/(2*pills - 1) # *2 accounts for the pills taken over the 2 days\n",
    "else:\n",
    "    k = 0\n",
    "\n",
    "intake = [0]*(N+1)\n",
    "dose =2*14850 #Multiplied by 2 to get the dose for the 2 days\n",
    "dosage = [0]*(N+1)"
   ]
  },
  {
   "cell_type": "code",
   "execution_count": 5,
   "id": "07d28fb4",
   "metadata": {},
   "outputs": [],
   "source": [
    "#We thought it would be better to have a different dose for the 1st pill than the others\n",
    "for i in range(N):\n",
    "    if t[i]==time_start:\n",
    "        #print (\"In first loop\")\n",
    "        dosage[i] = n*dose #1st pill has 24% of the 2day allotment of the meds.\n",
    "        #print(\"Next does is\", a)\n",
    "        #print(\"THe time is\", t[i])\n",
    "        a=next_dose + a\n",
    "        #print(\"Next dose\",a)\n",
    "    if t[i]==(a):\n",
    "        #print(\"In 2nd loop\")\n",
    "        #print(\"Next dose is\", a)\n",
    "        dosage[i]=((k*dose)) #The remaining doses all have the same amount.\n",
    "        a= a + next_dose\n",
    "        #print(\"Next dose is\", a)\n",
    "        #print(\"The time is\", t[i])"
   ]
  },
  {
   "cell_type": "code",
   "execution_count": 6,
   "id": "d3cb3351",
   "metadata": {},
   "outputs": [],
   "source": [
    "intake = dosage #THe array constructed for dosage gives the same result for intake that was calculated in the sample code\n",
    "\n",
    "\n",
    "\n",
    "absorption_rate = 0.25\n",
    "blood_volume = 4.6\n",
    "medicinal_level = 800  # level at which drug becomes effective mg/l\n",
    "toxic_level = 1000     # level at which drug becomes toxic  mg/l\n",
    "half_life = 6\n",
    "dosage_int = 24/pills\n",
    "excretion_rate = math.log(2)/half_life\n",
    "excretion_rate2 = (math.log(2)/half_life)*1.2\n",
    "steps_between_doses = dosage_int/time_step\n",
    "\n",
    "medicine_in_intestines = [0]*(N+1)\n",
    "plasma_level = [0]*(N+1)\n",
    "plasma_concentration = [0]*(N+1)\n",
    "plasma_concentration2 = [0]*(N+1)\n",
    "absorption = [0]*(N+1)\n",
    "excretion = [0]*(N+1)\n",
    "excretion2 = [0]*(N+1)"
   ]
  },
  {
   "cell_type": "code",
   "execution_count": 7,
   "id": "a9837ca5",
   "metadata": {},
   "outputs": [],
   "source": [
    "t = [0]*(N+1)\n",
    "t[0] = time_start\n",
    "step_next_dose = 1\n",
    "\n",
    "for i in range(N):\n",
    "    t[i+1] = t[i] + time_step\n",
    "    \n",
    "    if i == step_next_dose:\n",
    "        #intake[i] = dosage\n",
    "        step_next_dose = i + steps_between_doses\n",
    "    #else:\n",
    "        #intake[i] = 0"
   ]
  },
  {
   "cell_type": "code",
   "execution_count": 8,
   "id": "50035ae5",
   "metadata": {},
   "outputs": [],
   "source": [
    "for i in range(N): \n",
    "    absorption[i] = time_step * absorption_rate *medicine_in_intestines[i]\n",
    "    excretion[i] = time_step * excretion_rate * plasma_level[i] \n",
    "    medicine_in_intestines[i+1] = medicine_in_intestines[i] - absorption[i] + intake[i] \n",
    "    plasma_level[i+1] = plasma_level[i]  -  excretion[i] + absorption[i]    \n",
    "    plasma_concentration[i+1] = plasma_level[i+1] / blood_volume\n",
    "\n",
    "for i in range(N): \n",
    "    absorption[i] = time_step * absorption_rate *medicine_in_intestines[i]\n",
    "    excretion2[i] = time_step * excretion_rate2 * plasma_level[i] \n",
    "    medicine_in_intestines[i+1] = medicine_in_intestines[i] - absorption[i] + intake[i] \n",
    "    plasma_level[i+1] = plasma_level[i]  -  excretion2[i] + absorption[i]    \n",
    "    plasma_concentration2[i+1] = plasma_level[i+1] / blood_volume\n"
   ]
  },
  {
   "cell_type": "code",
   "execution_count": 9,
   "id": "122e2458",
   "metadata": {},
   "outputs": [
    {
     "data": {
      "image/png": "[encoded data removed]",
      "text/plain": [
       "<Figure size 432x288 with 1 Axes>"
      ]
     },
     "metadata": {
      "needs_background": "light"
     },
     "output_type": "display_data"
    }
   ],
   "source": [
    "plt.plot(t,plasma_concentration, color = 'b', label= \"Plasma Concentration\")\n",
    "plt.plot(t,plasma_concentration2, 'bs', label= \"Plasma Concentration w/ coffee\")\n",
    "m_level = [medicinal_level]*(N+1)\n",
    "plt.plot(t, m_level, color= 'r', label= \"Medicinal Level\",)\n",
    "\n",
    "t_level = [toxic_level]*(N+1)\n",
    "plt.plot(t, t_level, color = 'g', label = \"Toxic Level\")\n",
    "\n",
    "plt.legend(loc=4)\n",
    "\n",
    "plt.minorticks_on()\n",
    "plt.ylim(0,1100)\n",
    "plt.show()"
   ]
  },
  {
   "cell_type": "code",
   "execution_count": null,
   "id": "06bf3b23",
   "metadata": {},
   "outputs": [],
   "source": []
  }
 ],
 "metadata": {
  "kernelspec": {
   "display_name": "Python 3",
   "language": "python",
   "name": "python3"
  },
  "language_info": {
   "codemirror_mode": {
    "name": "ipython",
    "version": 3
   },
   "file_extension": ".py",
   "mimetype": "text/x-python",
   "name": "python",
   "nbconvert_exporter": "python",
   "pygments_lexer": "ipython3",
   "version": "3.7.10"
  }
 },
 "nbformat": 4,
 "nbformat_minor": 5
}
